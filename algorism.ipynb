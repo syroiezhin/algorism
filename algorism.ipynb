{
 "cells": [
  {
   "cell_type": "markdown",
   "metadata": {},
   "source": [
    "# 👷🏾‍♂️ Functional 👨🏽‍🏭"
   ]
  },
  {
   "cell_type": "code",
   "execution_count": 3,
   "metadata": {},
   "outputs": [],
   "source": [
    "def ascending()->str: return ''.join( [chr(ord('0')+e) for e in range(10)] + [chr(ord('A')+e) for e in range(26)] )\n",
    "\n",
    "def toDec(value:str, fromsys:int=2, *, sys:str=ascending())->int: return sum([sys[:fromsys].index(value[enum])*fromsys**(len(value)-enum-1) for enum in range(len(value))])\n",
    "\n",
    "def decTo(value:str, printall:bool=False, *, tosys:int, sys:str=ascending())->str: return ''.join([sys[(value//(tosys**div))%tosys] for div in range(intlog(value,tosys),-1,-1)]) + (radix(tosys) if printall==True else '')\n",
    "\n",
    "def radix(base:int)->str: return ''.join( [ chr(8320+int(num)) for num in str(base) ] )\n",
    "\n",
    "def intlog(num:int, base:int)->int:\n",
    "    degree = 1\n",
    "    while True:\n",
    "        maxmin = base**degree\n",
    "        if num>=maxmin and num<base*maxmin: return degree\n",
    "        if num<base: return 0\n",
    "        degree+=1\n",
    "\n",
    "''' Dependent blocks: '''\n",
    "\n",
    "def convertSys(value:str, printall:bool=False, *, fromsys:int, tosys:int, sys:str=ascending())->str:\n",
    "    if fromsys <= len(sys) and tosys <= len(sys): \n",
    "        dec = toDec(value=value, fromsys=fromsys, sys=sys)\n",
    "        return decTo(value=dec, printall=printall, tosys=tosys, sys=sys)\n",
    "    else: \n",
    "        excess = tosys if tosys>fromsys else fromsys\n",
    "        return print(f'PLEASE NOTE: In the proposed number system ({sys}) there is no interesting number of characters ({excess}), but you can increase this list by specifying the sequence of the required number of your characters in the \\'sys\\' variable!!! There are currently {len(sys)} characters in the \\'sys\\' variable.')\n",
    "\n",
    "def toBin(value:str, fromsys:str=10, printall:bool=False)->str: return convertSys(value=value, fromsys=fromsys, tosys=2, printall=printall)\n",
    "def toOct(value:str, fromsys:str=10, printall:bool=False)->str: return convertSys(value=value, fromsys=fromsys, tosys=8, printall=printall)\n",
    "def toHex(value:str, fromsys:str=10, printall:bool=False)->str: return convertSys(value=value, fromsys=fromsys, tosys=16, printall=printall)\n",
    "\n",
    "def amount(argument:str, addition:str, printall:bool=False, *, base:int=10, sys:str=ascending())->str: \n",
    "    argument=toDec(argument, base, sys=sys)\n",
    "    addition=toDec(addition, base, sys=sys)\n",
    "    return convertSys(str(argument+addition), printall, fromsys=10, tosys=base, sys=sys)\n",
    "\n",
    "def diff(argument:str, subtractor:str, printall:bool=False, *, base:int=10, sys:str=ascending())->str:\n",
    "    argument=toDec(argument, base, sys=sys)\n",
    "    subtractor=toDec(subtractor, base, sys=sys)\n",
    "    return ('' if argument>subtractor else '-') + convertSys(str(argument-subtractor if argument>subtractor else subtractor-argument), printall, fromsys=10, tosys=base, sys=sys)\n",
    "\n",
    "def example(start:int=2, finish:int=36):\n",
    "    for fromsys in range(finish,start-1,-1):\n",
    "        for tosys in range(36,1,-1):\n",
    "            tofirst = convertSys(ascending()[fromsys-1],fromsys=fromsys,tosys=tosys)\n",
    "            tosecond = convertSys(tofirst,True,fromsys=tosys,tosys=fromsys)\n",
    "            print(f'{tofirst}{radix(tosys)}',end='≡' if tosys!=2 else '\\n')"
   ]
  },
  {
   "cell_type": "markdown",
   "metadata": {},
   "source": [
    "# 🫡 Screenplay 📝"
   ]
  },
  {
   "cell_type": "code",
   "execution_count": 6,
   "metadata": {},
   "outputs": [
    {
     "name": "stdout",
     "output_type": "stream",
     "text": [
      "The idea of developing intlog: log₃33 ≡ log₃27 + log₃(33/27) ≈ 3 + C,   where 0≤C<1\n",
      "Func amount (QA7+R07): 1PAE₂₈; 1OAE₂₉; 1NAE₃₀; 1MAE₃₁; 1LAE₃₂; 1KAE₃₃; 1JAE₃₄; 1IAE₃₅; 1HAE₃₆\n",
      "Func diff (QA7-R07): -I0₂₈; -J0₂₉; -K0₃₀; -L0₃₁; -M0₃₂; -N0₃₃; -O0₃₄; -P0₃₅; -Q0₃₆\n",
      "Translation in various reporting systems:\n",
      "Z₃₆≡10₃₅≡11₃₄≡12₃₃≡13₃₂≡14₃₁≡15₃₀≡16₂₉≡17₂₈≡18₂₇≡19₂₆≡1A₂₅≡1B₂₄≡1C₂₃≡1D₂₂≡1E₂₁≡1F₂₀≡1G₁₉≡1H₁₈≡21₁₇≡23₁₆≡25₁₅≡27₁₄≡29₁₃≡2B₁₂≡32₁₁≡35₁₀≡38₉≡43₈≡50₇≡55₆≡120₅≡203₄≡1022₃≡100011₂\n",
      "⚠︎ Check for an error: \n",
      "PLEASE NOTE: In the proposed number system (0123456789ABCDEFGHIJKLMNOPQRSTUVWXYZ) there is no interesting number of characters (40), but you can increase this list by specifying the sequence of the required number of your characters in the 'sys' variable!!! There are currently 36 characters in the sys variable.\n"
     ]
    }
   ],
   "source": [
    "argument = 33\n",
    "base = 3\n",
    "\n",
    "from math import log\n",
    "# my development of finding the whole logarithm\n",
    "wholelog = intlog(argument, base)\n",
    "whole = base**wholelog\n",
    "remainder = argument - whole\n",
    "\n",
    "print(f'The idea of developing intlog: log{radix(base)}{argument} ≡ log{radix(base)}{whole} + log{radix(base)}({argument}/{whole}) ≈ {wholelog} + C,   where 0≤C<1')\n",
    "\n",
    "first = 'QA7'\n",
    "second = 'R07'\n",
    "max = sorted(first+second, reverse=True)[0]\n",
    "start = ascending().index(max)+1\n",
    "\n",
    "res = '; '.join([amount(first,second,True,base=a) for a in range(start,37)])\n",
    "print(f'Func amount ({first}+{second}): {res}', end='')\n",
    "\n",
    "res = '; '.join([diff(first,second,True,base=d) for d in range(start,37)])\n",
    "print(f'\\nFunc diff ({first}-{second}): {res}')\n",
    "\n",
    "print(f'Translation in various reporting systems:')\n",
    "example(start=36)\n",
    "\n",
    "print('⚠︎ Check for an error: ')\n",
    "convertSys('XYZ', True, fromsys=36, tosys=40)"
   ]
  }
 ],
 "metadata": {
  "kernelspec": {
   "display_name": "Python 3.8.8",
   "language": "python",
   "name": "python3"
  },
  "language_info": {
   "codemirror_mode": {
    "name": "ipython",
    "version": 3
   },
   "file_extension": ".py",
   "mimetype": "text/x-python",
   "name": "python",
   "nbconvert_exporter": "python",
   "pygments_lexer": "ipython3",
   "version": "3.8.8"
  },
  "orig_nbformat": 4,
  "vscode": {
   "interpreter": {
    "hash": "befc73cd20c9f47f6f1d1f5702fb73f71fe745ae52fe81d57d15cca348601a15"
   }
  }
 },
 "nbformat": 4,
 "nbformat_minor": 2
}
