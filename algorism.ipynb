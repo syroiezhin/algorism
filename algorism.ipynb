{
 "cells": [
  {
   "cell_type": "markdown",
   "metadata": {},
   "source": [
    "# 👷🏾‍♂️ Functional 👨🏽‍🏭"
   ]
  },
  {
   "cell_type": "code",
   "execution_count": 1,
   "metadata": {},
   "outputs": [],
   "source": [
    "def ascending()->str: return ''.join( [chr(ord('0')+e) for e in range(10)] + [chr(ord('A')+e) for e in range(26)] )\n",
    "\n",
    "def toDec(value:str, fromsys:int=2, *, sys:str=ascending())->int: return sum([sys[:fromsys].index(value[enum])*fromsys**(len(value)-enum-1) for enum in range(len(value))])\n",
    "\n",
    "def radix(base:int)->str: return ''.join( [ chr(8320+int(num)) for num in str(base) ] )\n",
    "\n",
    "def intlog(num:int, base:int)->int:\n",
    "    degree = 1\n",
    "    while True:\n",
    "        maxmin = base**degree\n",
    "        if num>=maxmin and num<base*maxmin: return degree\n",
    "        if num<base: return 0\n",
    "        degree+=1\n",
    "\n",
    "def convert(value:str, printall:bool=False, *, fromsys:int, tosys:int, sys:str=ascending())->str:\n",
    "    if fromsys <= len(sys) and tosys <= len(sys): \n",
    "        dec = toDec(value=value, fromsys=fromsys, sys=sys)\n",
    "        return ''.join([sys[(dec//(tosys**div))%tosys] for div in range(intlog(dec,tosys),-1,-1)]) + (radix(tosys) if printall==True else '')\n",
    "    else: return print(f'ERROR: The \\'convert2system\\' function doesn\\'t accept a second parameter greater than {len(sys)}.')\n",
    "\n",
    "def toBin(value:str, fromsys:str=10, printall:bool=False)->str: return convert(value=value, fromsys=fromsys, tosys=2, printall=printall)\n",
    "def toOct(value:str, fromsys:str=10, printall:bool=False)->str: return convert(value=value, fromsys=fromsys, tosys=8, printall=printall)\n",
    "def toHex(value:str, fromsys:str=10, printall:bool=False)->str: return convert(value=value, fromsys=fromsys, tosys=16, printall=printall)\n",
    "\n",
    "def amount(argument:str, addition:str, printall:bool=False, *, base:int=10, sys:str=ascending())->str: \n",
    "    argument=toDec(argument, base, sys=sys)\n",
    "    addition=toDec(addition, base, sys=sys)\n",
    "    return convert(str(argument+addition), printall, fromsys=10, tosys=base, sys=sys)\n",
    "def difference(argument:str, subtractor:str, printall:bool=False, *, base:int=10, sys:str=ascending())->str: \n",
    "    argument=toDec(argument, base, sys=sys)\n",
    "    subtractor=toDec(subtractor, base, sys=sys)\n",
    "    return ('' if argument>subtractor else '-') + convert(str(argument-subtractor if argument>subtractor else subtractor-argument), printall, fromsys=10, tosys=base, sys=sys)"
   ]
  },
  {
   "cell_type": "markdown",
   "metadata": {},
   "source": [
    "# 🫡 Screenplay 📝"
   ]
  },
  {
   "cell_type": "code",
   "execution_count": 2,
   "metadata": {},
   "outputs": [
    {
     "name": "stdout",
     "output_type": "stream",
     "text": [
      "List of used numbers in ascending order in the proposed number systems: 0123456789ABCDEFGHIJKLMNOPQRSTUVWXYZ\n",
      "Checking the correct display of the indices of the base of the taken logarithm: 9876543210 -> ₉₈₇₆₅₄₃₂₁₀\n",
      "The idea of developing intlog: 3.1826583386441376 ≡ 3.0 + 0.18265833864413814 ≈ 3 + C,   where 0≤C<1\n",
      "We check the correctness of taking the logarithm in the interval of interest to us: True\n",
      "\n",
      "Func amount (ABB+F07):\n",
      "19C2₁₆; 18C1₁₇; 17C0₁₈; 16BI₁₉; 15BI₂₀; 14BI₂₁; 13BI₂₂; 12BI₂₃; 11BI₂₄; 10BI₂₅; PBI₂₆; PBI₂₇; PBI₂₈; PBI₂₉; PBI₃₀; PBI₃₁; PBI₃₂; PBI₃₃; PBI₃₄; PBI₃₅; PBI₃₆; \n",
      "Func difference (ABB-F07):\n",
      "-44C₁₆; -45D₁₇; -46E₁₈; -47F₁₉; -48G₂₀; -49H₂₁; -4AI₂₂; -4BJ₂₃; -4CK₂₄; -4DL₂₅; -4EM₂₆; -4FN₂₇; -4GO₂₈; -4HP₂₉; -4IQ₃₀; -4JR₃₁; -4KS₃₂; -4LT₃₃; -4MU₃₄; -4NV₃₅; -4OW₃₆; \n",
      "\n",
      "Translation in various reporting systems:\n",
      "Z₃₆≡10₃₅≡11₃₄≡12₃₃≡13₃₂≡14₃₁≡15₃₀≡16₂₉≡17₂₈≡18₂₇≡19₂₆≡1A₂₅≡1B₂₄≡1C₂₃≡1D₂₂≡1E₂₁≡1F₂₀≡1G₁₉≡1H₁₈≡21₁₇≡23₁₆≡25₁₅≡27₁₄≡29₁₃≡2B₁₂≡32₁₁≡35₁₀≡38₉≡43₈≡50₇≡55₆≡120₅≡203₄≡1022₃≡100011₂\n",
      "Y₃₆≡Y₃₅≡10₃₄≡11₃₃≡12₃₂≡13₃₁≡14₃₀≡15₂₉≡16₂₈≡17₂₇≡18₂₆≡19₂₅≡1A₂₄≡1B₂₃≡1C₂₂≡1D₂₁≡1E₂₀≡1F₁₉≡1G₁₈≡20₁₇≡22₁₆≡24₁₅≡26₁₄≡28₁₃≡2A₁₂≡31₁₁≡34₁₀≡37₉≡42₈≡46₇≡54₆≡114₅≡202₄≡1021₃≡100010₂\n",
      "X₃₆≡X₃₅≡X₃₄≡10₃₃≡11₃₂≡12₃₁≡13₃₀≡14₂₉≡15₂₈≡16₂₇≡17₂₆≡18₂₅≡19₂₄≡1A₂₃≡1B₂₂≡1C₂₁≡1D₂₀≡1E₁₉≡1F₁₈≡1G₁₇≡21₁₆≡23₁₅≡25₁₄≡27₁₃≡29₁₂≡30₁₁≡33₁₀≡36₉≡41₈≡45₇≡53₆≡113₅≡201₄≡1020₃≡100001₂\n",
      "W₃₆≡W₃₅≡W₃₄≡W₃₃≡10₃₂≡11₃₁≡12₃₀≡13₂₉≡14₂₈≡15₂₇≡16₂₆≡17₂₅≡18₂₄≡19₂₃≡1A₂₂≡1B₂₁≡1C₂₀≡1D₁₉≡1E₁₈≡1F₁₇≡20₁₆≡22₁₅≡24₁₄≡26₁₃≡28₁₂≡2A₁₁≡32₁₀≡35₉≡40₈≡44₇≡52₆≡112₅≡200₄≡1012₃≡100000₂\n",
      "V₃₆≡V₃₅≡V₃₄≡V₃₃≡V₃₂≡10₃₁≡11₃₀≡12₂₉≡13₂₈≡14₂₇≡15₂₆≡16₂₅≡17₂₄≡18₂₃≡19₂₂≡1A₂₁≡1B₂₀≡1C₁₉≡1D₁₈≡1E₁₇≡1F₁₆≡21₁₅≡23₁₄≡25₁₃≡27₁₂≡29₁₁≡31₁₀≡34₉≡37₈≡43₇≡51₆≡111₅≡133₄≡1011₃≡11111₂\n",
      "U₃₆≡U₃₅≡U₃₄≡U₃₃≡U₃₂≡U₃₁≡10₃₀≡11₂₉≡12₂₈≡13₂₇≡14₂₆≡15₂₅≡16₂₄≡17₂₃≡18₂₂≡19₂₁≡1A₂₀≡1B₁₉≡1C₁₈≡1D₁₇≡1E₁₆≡20₁₅≡22₁₄≡24₁₃≡26₁₂≡28₁₁≡30₁₀≡33₉≡36₈≡42₇≡50₆≡110₅≡132₄≡1010₃≡11110₂\n",
      "T₃₆≡T₃₅≡T₃₄≡T₃₃≡T₃₂≡T₃₁≡T₃₀≡10₂₉≡11₂₈≡12₂₇≡13₂₆≡14₂₅≡15₂₄≡16₂₃≡17₂₂≡18₂₁≡19₂₀≡1A₁₉≡1B₁₈≡1C₁₇≡1D₁₆≡1E₁₅≡21₁₄≡23₁₃≡25₁₂≡27₁₁≡29₁₀≡32₉≡35₈≡41₇≡45₆≡104₅≡131₄≡1002₃≡11101₂\n",
      "S₃₆≡S₃₅≡S₃₄≡S₃₃≡S₃₂≡S₃₁≡S₃₀≡S₂₉≡10₂₈≡11₂₇≡12₂₆≡13₂₅≡14₂₄≡15₂₃≡16₂₂≡17₂₁≡18₂₀≡19₁₉≡1A₁₈≡1B₁₇≡1C₁₆≡1D₁₅≡20₁₄≡22₁₃≡24₁₂≡26₁₁≡28₁₀≡31₉≡34₈≡40₇≡44₆≡103₅≡130₄≡1001₃≡11100₂\n",
      "R₃₆≡R₃₅≡R₃₄≡R₃₃≡R₃₂≡R₃₁≡R₃₀≡R₂₉≡R₂₈≡10₂₇≡11₂₆≡12₂₅≡13₂₄≡14₂₃≡15₂₂≡16₂₁≡17₂₀≡18₁₉≡19₁₈≡1A₁₇≡1B₁₆≡1C₁₅≡1D₁₄≡21₁₃≡23₁₂≡25₁₁≡27₁₀≡30₉≡33₈≡36₇≡43₆≡102₅≡123₄≡1000₃≡11011₂\n",
      "Q₃₆≡Q₃₅≡Q₃₄≡Q₃₃≡Q₃₂≡Q₃₁≡Q₃₀≡Q₂₉≡Q₂₈≡Q₂₇≡10₂₆≡11₂₅≡12₂₄≡13₂₃≡14₂₂≡15₂₁≡16₂₀≡17₁₉≡18₁₈≡19₁₇≡1A₁₆≡1B₁₅≡1C₁₄≡20₁₃≡22₁₂≡24₁₁≡26₁₀≡28₉≡32₈≡35₇≡42₆≡101₅≡122₄≡222₃≡11010₂\n",
      "P₃₆≡P₃₅≡P₃₄≡P₃₃≡P₃₂≡P₃₁≡P₃₀≡P₂₉≡P₂₈≡P₂₇≡P₂₆≡10₂₅≡11₂₄≡12₂₃≡13₂₂≡14₂₁≡15₂₀≡16₁₉≡17₁₈≡18₁₇≡19₁₆≡1A₁₅≡1B₁₄≡1C₁₃≡21₁₂≡23₁₁≡25₁₀≡27₉≡31₈≡34₇≡41₆≡100₅≡121₄≡221₃≡11001₂\n",
      "O₃₆≡O₃₅≡O₃₄≡O₃₃≡O₃₂≡O₃₁≡O₃₀≡O₂₉≡O₂₈≡O₂₇≡O₂₆≡O₂₅≡10₂₄≡11₂₃≡12₂₂≡13₂₁≡14₂₀≡15₁₉≡16₁₈≡17₁₇≡18₁₆≡19₁₅≡1A₁₄≡1B₁₃≡20₁₂≡22₁₁≡24₁₀≡26₉≡30₈≡33₇≡40₆≡44₅≡120₄≡220₃≡11000₂\n",
      "N₃₆≡N₃₅≡N₃₄≡N₃₃≡N₃₂≡N₃₁≡N₃₀≡N₂₉≡N₂₈≡N₂₇≡N₂₆≡N₂₅≡N₂₄≡10₂₃≡11₂₂≡12₂₁≡13₂₀≡14₁₉≡15₁₈≡16₁₇≡17₁₆≡18₁₅≡19₁₄≡1A₁₃≡1B₁₂≡21₁₁≡23₁₀≡25₉≡27₈≡32₇≡35₆≡43₅≡113₄≡212₃≡10111₂\n",
      "M₃₆≡M₃₅≡M₃₄≡M₃₃≡M₃₂≡M₃₁≡M₃₀≡M₂₉≡M₂₈≡M₂₇≡M₂₆≡M₂₅≡M₂₄≡M₂₃≡10₂₂≡11₂₁≡12₂₀≡13₁₉≡14₁₈≡15₁₇≡16₁₆≡17₁₅≡18₁₄≡19₁₃≡1A₁₂≡20₁₁≡22₁₀≡24₉≡26₈≡31₇≡34₆≡42₅≡112₄≡211₃≡10110₂\n",
      "L₃₆≡L₃₅≡L₃₄≡L₃₃≡L₃₂≡L₃₁≡L₃₀≡L₂₉≡L₂₈≡L₂₇≡L₂₆≡L₂₅≡L₂₄≡L₂₃≡L₂₂≡10₂₁≡11₂₀≡12₁₉≡13₁₈≡14₁₇≡15₁₆≡16₁₅≡17₁₄≡18₁₃≡19₁₂≡1A₁₁≡21₁₀≡23₉≡25₈≡30₇≡33₆≡41₅≡111₄≡210₃≡10101₂\n",
      "K₃₆≡K₃₅≡K₃₄≡K₃₃≡K₃₂≡K₃₁≡K₃₀≡K₂₉≡K₂₈≡K₂₇≡K₂₆≡K₂₅≡K₂₄≡K₂₃≡K₂₂≡K₂₁≡10₂₀≡11₁₉≡12₁₈≡13₁₇≡14₁₆≡15₁₅≡16₁₄≡17₁₃≡18₁₂≡19₁₁≡20₁₀≡22₉≡24₈≡26₇≡32₆≡40₅≡110₄≡202₃≡10100₂\n",
      "J₃₆≡J₃₅≡J₃₄≡J₃₃≡J₃₂≡J₃₁≡J₃₀≡J₂₉≡J₂₈≡J₂₇≡J₂₆≡J₂₅≡J₂₄≡J₂₃≡J₂₂≡J₂₁≡J₂₀≡10₁₉≡11₁₈≡12₁₇≡13₁₆≡14₁₅≡15₁₄≡16₁₃≡17₁₂≡18₁₁≡19₁₀≡21₉≡23₈≡25₇≡31₆≡34₅≡103₄≡201₃≡10011₂\n",
      "I₃₆≡I₃₅≡I₃₄≡I₃₃≡I₃₂≡I₃₁≡I₃₀≡I₂₉≡I₂₈≡I₂₇≡I₂₆≡I₂₅≡I₂₄≡I₂₃≡I₂₂≡I₂₁≡I₂₀≡I₁₉≡10₁₈≡11₁₇≡12₁₆≡13₁₅≡14₁₄≡15₁₃≡16₁₂≡17₁₁≡18₁₀≡20₉≡22₈≡24₇≡30₆≡33₅≡102₄≡200₃≡10010₂\n",
      "H₃₆≡H₃₅≡H₃₄≡H₃₃≡H₃₂≡H₃₁≡H₃₀≡H₂₉≡H₂₈≡H₂₇≡H₂₆≡H₂₅≡H₂₄≡H₂₃≡H₂₂≡H₂₁≡H₂₀≡H₁₉≡H₁₈≡10₁₇≡11₁₆≡12₁₅≡13₁₄≡14₁₃≡15₁₂≡16₁₁≡17₁₀≡18₉≡21₈≡23₇≡25₆≡32₅≡101₄≡122₃≡10001₂\n",
      "G₃₆≡G₃₅≡G₃₄≡G₃₃≡G₃₂≡G₃₁≡G₃₀≡G₂₉≡G₂₈≡G₂₇≡G₂₆≡G₂₅≡G₂₄≡G₂₃≡G₂₂≡G₂₁≡G₂₀≡G₁₉≡G₁₈≡G₁₇≡10₁₆≡11₁₅≡12₁₄≡13₁₃≡14₁₂≡15₁₁≡16₁₀≡17₉≡20₈≡22₇≡24₆≡31₅≡100₄≡121₃≡10000₂\n",
      "F₃₆≡F₃₅≡F₃₄≡F₃₃≡F₃₂≡F₃₁≡F₃₀≡F₂₉≡F₂₈≡F₂₇≡F₂₆≡F₂₅≡F₂₄≡F₂₃≡F₂₂≡F₂₁≡F₂₀≡F₁₉≡F₁₈≡F₁₇≡F₁₆≡10₁₅≡11₁₄≡12₁₃≡13₁₂≡14₁₁≡15₁₀≡16₉≡17₈≡21₇≡23₆≡30₅≡33₄≡120₃≡1111₂\n",
      "E₃₆≡E₃₅≡E₃₄≡E₃₃≡E₃₂≡E₃₁≡E₃₀≡E₂₉≡E₂₈≡E₂₇≡E₂₆≡E₂₅≡E₂₄≡E₂₃≡E₂₂≡E₂₁≡E₂₀≡E₁₉≡E₁₈≡E₁₇≡E₁₆≡E₁₅≡10₁₄≡11₁₃≡12₁₂≡13₁₁≡14₁₀≡15₉≡16₈≡20₇≡22₆≡24₅≡32₄≡112₃≡1110₂\n",
      "D₃₆≡D₃₅≡D₃₄≡D₃₃≡D₃₂≡D₃₁≡D₃₀≡D₂₉≡D₂₈≡D₂₇≡D₂₆≡D₂₅≡D₂₄≡D₂₃≡D₂₂≡D₂₁≡D₂₀≡D₁₉≡D₁₈≡D₁₇≡D₁₆≡D₁₅≡D₁₄≡10₁₃≡11₁₂≡12₁₁≡13₁₀≡14₉≡15₈≡16₇≡21₆≡23₅≡31₄≡111₃≡1101₂\n",
      "C₃₆≡C₃₅≡C₃₄≡C₃₃≡C₃₂≡C₃₁≡C₃₀≡C₂₉≡C₂₈≡C₂₇≡C₂₆≡C₂₅≡C₂₄≡C₂₃≡C₂₂≡C₂₁≡C₂₀≡C₁₉≡C₁₈≡C₁₇≡C₁₆≡C₁₅≡C₁₄≡C₁₃≡10₁₂≡11₁₁≡12₁₀≡13₉≡14₈≡15₇≡20₆≡22₅≡30₄≡110₃≡1100₂\n",
      "B₃₆≡B₃₅≡B₃₄≡B₃₃≡B₃₂≡B₃₁≡B₃₀≡B₂₉≡B₂₈≡B₂₇≡B₂₆≡B₂₅≡B₂₄≡B₂₃≡B₂₂≡B₂₁≡B₂₀≡B₁₉≡B₁₈≡B₁₇≡B₁₆≡B₁₅≡B₁₄≡B₁₃≡B₁₂≡10₁₁≡11₁₀≡12₉≡13₈≡14₇≡15₆≡21₅≡23₄≡102₃≡1011₂\n",
      "A₃₆≡A₃₅≡A₃₄≡A₃₃≡A₃₂≡A₃₁≡A₃₀≡A₂₉≡A₂₈≡A₂₇≡A₂₆≡A₂₅≡A₂₄≡A₂₃≡A₂₂≡A₂₁≡A₂₀≡A₁₉≡A₁₈≡A₁₇≡A₁₆≡A₁₅≡A₁₄≡A₁₃≡A₁₂≡A₁₁≡10₁₀≡11₉≡12₈≡13₇≡14₆≡20₅≡22₄≡101₃≡1010₂\n",
      "9₃₆≡9₃₅≡9₃₄≡9₃₃≡9₃₂≡9₃₁≡9₃₀≡9₂₉≡9₂₈≡9₂₇≡9₂₆≡9₂₅≡9₂₄≡9₂₃≡9₂₂≡9₂₁≡9₂₀≡9₁₉≡9₁₈≡9₁₇≡9₁₆≡9₁₅≡9₁₄≡9₁₃≡9₁₂≡9₁₁≡9₁₀≡10₉≡11₈≡12₇≡13₆≡14₅≡21₄≡100₃≡1001₂\n",
      "8₃₆≡8₃₅≡8₃₄≡8₃₃≡8₃₂≡8₃₁≡8₃₀≡8₂₉≡8₂₈≡8₂₇≡8₂₆≡8₂₅≡8₂₄≡8₂₃≡8₂₂≡8₂₁≡8₂₀≡8₁₉≡8₁₈≡8₁₇≡8₁₆≡8₁₅≡8₁₄≡8₁₃≡8₁₂≡8₁₁≡8₁₀≡8₉≡10₈≡11₇≡12₆≡13₅≡20₄≡22₃≡1000₂\n",
      "7₃₆≡7₃₅≡7₃₄≡7₃₃≡7₃₂≡7₃₁≡7₃₀≡7₂₉≡7₂₈≡7₂₇≡7₂₆≡7₂₅≡7₂₄≡7₂₃≡7₂₂≡7₂₁≡7₂₀≡7₁₉≡7₁₈≡7₁₇≡7₁₆≡7₁₅≡7₁₄≡7₁₃≡7₁₂≡7₁₁≡7₁₀≡7₉≡7₈≡10₇≡11₆≡12₅≡13₄≡21₃≡111₂\n",
      "6₃₆≡6₃₅≡6₃₄≡6₃₃≡6₃₂≡6₃₁≡6₃₀≡6₂₉≡6₂₈≡6₂₇≡6₂₆≡6₂₅≡6₂₄≡6₂₃≡6₂₂≡6₂₁≡6₂₀≡6₁₉≡6₁₈≡6₁₇≡6₁₆≡6₁₅≡6₁₄≡6₁₃≡6₁₂≡6₁₁≡6₁₀≡6₉≡6₈≡6₇≡10₆≡11₅≡12₄≡20₃≡110₂\n",
      "5₃₆≡5₃₅≡5₃₄≡5₃₃≡5₃₂≡5₃₁≡5₃₀≡5₂₉≡5₂₈≡5₂₇≡5₂₆≡5₂₅≡5₂₄≡5₂₃≡5₂₂≡5₂₁≡5₂₀≡5₁₉≡5₁₈≡5₁₇≡5₁₆≡5₁₅≡5₁₄≡5₁₃≡5₁₂≡5₁₁≡5₁₀≡5₉≡5₈≡5₇≡5₆≡10₅≡11₄≡12₃≡101₂\n",
      "4₃₆≡4₃₅≡4₃₄≡4₃₃≡4₃₂≡4₃₁≡4₃₀≡4₂₉≡4₂₈≡4₂₇≡4₂₆≡4₂₅≡4₂₄≡4₂₃≡4₂₂≡4₂₁≡4₂₀≡4₁₉≡4₁₈≡4₁₇≡4₁₆≡4₁₅≡4₁₄≡4₁₃≡4₁₂≡4₁₁≡4₁₀≡4₉≡4₈≡4₇≡4₆≡4₅≡10₄≡11₃≡100₂\n",
      "3₃₆≡3₃₅≡3₃₄≡3₃₃≡3₃₂≡3₃₁≡3₃₀≡3₂₉≡3₂₈≡3₂₇≡3₂₆≡3₂₅≡3₂₄≡3₂₃≡3₂₂≡3₂₁≡3₂₀≡3₁₉≡3₁₈≡3₁₇≡3₁₆≡3₁₅≡3₁₄≡3₁₃≡3₁₂≡3₁₁≡3₁₀≡3₉≡3₈≡3₇≡3₆≡3₅≡3₄≡10₃≡11₂\n",
      "2₃₆≡2₃₅≡2₃₄≡2₃₃≡2₃₂≡2₃₁≡2₃₀≡2₂₉≡2₂₈≡2₂₇≡2₂₆≡2₂₅≡2₂₄≡2₂₃≡2₂₂≡2₂₁≡2₂₀≡2₁₉≡2₁₈≡2₁₇≡2₁₆≡2₁₅≡2₁₄≡2₁₃≡2₁₂≡2₁₁≡2₁₀≡2₉≡2₈≡2₇≡2₆≡2₅≡2₄≡2₃≡10₂\n",
      "1₃₆≡1₃₅≡1₃₄≡1₃₃≡1₃₂≡1₃₁≡1₃₀≡1₂₉≡1₂₈≡1₂₇≡1₂₆≡1₂₅≡1₂₄≡1₂₃≡1₂₂≡1₂₁≡1₂₀≡1₁₉≡1₁₈≡1₁₇≡1₁₆≡1₁₅≡1₁₄≡1₁₃≡1₁₂≡1₁₁≡1₁₀≡1₉≡1₈≡1₇≡1₆≡1₅≡1₄≡1₃≡1₂\n"
     ]
    }
   ],
   "source": [
    "argument = 33\n",
    "base = 3\n",
    "\n",
    "from math import log\n",
    "# my development of finding the whole logarithm\n",
    "wholelog = intlog(argument, base)\n",
    "whole = base**wholelog\n",
    "remainder = argument - whole\n",
    "\n",
    "res = True\n",
    "for arg in range(2,37):\n",
    "    res1=''\n",
    "    res2=''\n",
    "    for basearg in range(2,37):\n",
    "        res1+=str(int(log(arg,basearg)))+' '\n",
    "        res2+=str( intlog(arg,basearg) )+' '\n",
    "    res = (res==(res1==res2))\n",
    "\n",
    "print(f'List of used numbers in ascending order in the proposed number systems: {ascending()}')\n",
    "print('Checking the correct display of the indices of the base of the taken logarithm: {} -> {}'.format(num := '9876543210', radix(num)))\n",
    "print(f'The idea of developing intlog: {log( whole + remainder, base)} ≡ {log(whole, base)} + {log((argument/whole), base)} ≈ {wholelog} + C,   where 0≤C<1')\n",
    "print(f'We check the correctness of taking the logarithm in the interval of interest to us: {res}\\n')\n",
    "\n",
    "\n",
    "\n",
    "first = 'ABB'\n",
    "second = 'F07'\n",
    "max = sorted(first+second, reverse=True)[0]\n",
    "start = ascending().index(max)+1\n",
    "\n",
    "print(f'Func amount ({first}+{second}):')\n",
    "\n",
    "for a in range(start,37):\n",
    "    print( amount(first,second,True,base=a), end='; ' )\n",
    "\n",
    "print(f'\\nFunc difference ({first}-{second}):')\n",
    "\n",
    "for d in range(start,37):\n",
    "    print( difference(first,second,True,base=d), end='; ' )\n",
    "\n",
    "\n",
    "\n",
    "print(f'\\n\\nTranslation in various reporting systems:')\n",
    "\n",
    "for fromsys in range(36,1,-1):\n",
    "    for tosys in range(36,1,-1):\n",
    "        tofirst = convert(ascending()[fromsys-1],fromsys=fromsys,tosys=tosys)\n",
    "        tosecond = convert(tofirst,True,fromsys=tosys,tosys=fromsys)\n",
    "        print(f'{tofirst}{radix(tosys)}',end='≡' if tosys!=2 else '\\n')"
   ]
  }
 ],
 "metadata": {
  "kernelspec": {
   "display_name": "Python 3.8.8",
   "language": "python",
   "name": "python3"
  },
  "language_info": {
   "codemirror_mode": {
    "name": "ipython",
    "version": 3
   },
   "file_extension": ".py",
   "mimetype": "text/x-python",
   "name": "python",
   "nbconvert_exporter": "python",
   "pygments_lexer": "ipython3",
   "version": "3.8.8"
  },
  "orig_nbformat": 4,
  "vscode": {
   "interpreter": {
    "hash": "befc73cd20c9f47f6f1d1f5702fb73f71fe745ae52fe81d57d15cca348601a15"
   }
  }
 },
 "nbformat": 4,
 "nbformat_minor": 2
}
