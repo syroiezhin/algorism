{
 "cells": [
  {
   "cell_type": "code",
   "execution_count": 1,
   "metadata": {},
   "outputs": [
    {
     "name": "stdout",
     "output_type": "stream",
     "text": [
      "0123456789ABCDEFGHIJKLMNOPQRSTUVWXYZ\n"
     ]
    }
   ],
   "source": [
    "def ascending():\n",
    "    return ''.join( [chr(ord('0')+e) for e in range(10)] + [chr(ord('A')+e) for e in range(26)] )\n",
    "\n",
    "res = ascending()\n",
    "print(res)"
   ]
  },
  {
   "cell_type": "code",
   "execution_count": 2,
   "metadata": {},
   "outputs": [
    {
     "name": "stdout",
     "output_type": "stream",
     "text": [
      "₉₈₇₆₅₄₃₂₁₀\n"
     ]
    }
   ],
   "source": [
    "def radix(base:int): return ''.join( [ chr(8320+int(num)) for num in str(base) ] )\n",
    "\n",
    "res = radix(9876543210)\n",
    "print(res)"
   ]
  },
  {
   "cell_type": "code",
   "execution_count": 3,
   "metadata": {},
   "outputs": [
    {
     "name": "stdout",
     "output_type": "stream",
     "text": [
      "000123456789000 -> 123456789000\n"
     ]
    }
   ],
   "source": [
    "def delnullcharif(fornum:str, its:str='0')->str:\n",
    "    for k in fornum:\n",
    "        if k==its: fornum= fornum.replace(its,'',1)\n",
    "        else: break\n",
    "    return fornum if fornum !='' else '0'\n",
    "\n",
    "before = '000123456789000'\n",
    "after = delnullcharif(before)\n",
    "print('{} -> {}'.format(before,after))"
   ]
  },
  {
   "cell_type": "code",
   "execution_count": 4,
   "metadata": {},
   "outputs": [
    {
     "name": "stdout",
     "output_type": "stream",
     "text": [
      "1001₂ -> 9₁₆\n"
     ]
    }
   ],
   "source": [
    "def convert2system(value:str, fromsys:int=10, intosys:int=16, sys:str=ascending(), returnthebase:bool=False)->str:\n",
    "    if fromsys <= len(sys) and intosys <= len(sys): \n",
    "        dec = sum([sys[:fromsys].index(value[enum])*fromsys**(len(value)-enum-1) for enum in range(len(value))])\n",
    "        return ''.join([sys[(dec//(intosys**div))%intosys] for div in range(5*len(str(dec)),-1,-1)]) + (radix(intosys) if returnthebase==True else '')\n",
    "    else: return print(f'ERROR: The \\'convert2system\\' function doesn\\'t accept a second parameter greater than {len(sys)}.')\n",
    "\n",
    "fromsys = 2\n",
    "intosys = 16\n",
    "v = '1001'\n",
    "print(f'{v}{radix(fromsys)} -> {delnullcharif(convert2system(v, fromsys, intosys, returnthebase=True))}')"
   ]
  }
 ],
 "metadata": {
  "kernelspec": {
   "display_name": "Python 3.8.8",
   "language": "python",
   "name": "python3"
  },
  "language_info": {
   "codemirror_mode": {
    "name": "ipython",
    "version": 3
   },
   "file_extension": ".py",
   "mimetype": "text/x-python",
   "name": "python",
   "nbconvert_exporter": "python",
   "pygments_lexer": "ipython3",
   "version": "3.8.8"
  },
  "orig_nbformat": 4,
  "vscode": {
   "interpreter": {
    "hash": "befc73cd20c9f47f6f1d1f5702fb73f71fe745ae52fe81d57d15cca348601a15"
   }
  }
 },
 "nbformat": 4,
 "nbformat_minor": 2
}
